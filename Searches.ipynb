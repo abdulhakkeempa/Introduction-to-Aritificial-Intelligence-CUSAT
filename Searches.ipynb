{
  "nbformat": 4,
  "nbformat_minor": 0,
  "metadata": {
    "colab": {
      "provenance": [],
      "authorship_tag": "ABX9TyOlWtPvXJJ6TRFljj2MqP/n"
    },
    "kernelspec": {
      "name": "python3",
      "display_name": "Python 3"
    },
    "language_info": {
      "name": "python"
    }
  },
  "cells": [
    {
      "cell_type": "markdown",
      "source": [
        "## **Graph**"
      ],
      "metadata": {
        "id": "FVTsYGNsEKlG"
      }
    },
    {
      "cell_type": "code",
      "source": [
        "WHITE = 0\n",
        "GRAY = 1\n",
        "BLACK = 2\n",
        "\n",
        "class Graph:\n",
        "    \n",
        "    def __init__(self,M):\n",
        "        self.Mat = M\n",
        "        self.N = M.shape[0]\n",
        "        self.parent = [None for _ in range(self.N)]\n",
        "        self.color = [None for _ in range(self.N)]\n",
        "        \n",
        "        \n",
        "    def getParent(self,index):\n",
        "        return self.parent[index]\n",
        "\n",
        "        \n",
        "    def getColor(self,index):\n",
        "        return self.color[index]\n",
        "    \n",
        "    def setParent(self,index,P):\n",
        "        self.parent[index] = P\n",
        "        \n",
        "    def setColor(self,index,color):\n",
        "        self.color[index] = color\n",
        "        \n",
        "    def getAdj(self, index):\n",
        "        adj=[]\n",
        "        for i,v in enumerate(self.Mat[index,:]):\n",
        "            if v!=0:\n",
        "                adj.append(i)\n",
        "        return adj\n",
        "    \n",
        "  "
      ],
      "metadata": {
        "id": "_knURA6gEI9y"
      },
      "execution_count": 19,
      "outputs": []
    },
    {
      "cell_type": "markdown",
      "source": [
        "##**Breadth First Search**"
      ],
      "metadata": {
        "id": "HxZrDyZ0GKtO"
      }
    },
    {
      "cell_type": "code",
      "execution_count": 20,
      "metadata": {
        "colab": {
          "base_uri": "https://localhost:8080/"
        },
        "id": "Fd-eu6kwGF4B",
        "outputId": "c84fa77f-6139-4698-9824-86b87c37faaf"
      },
      "outputs": [
        {
          "output_type": "stream",
          "name": "stdout",
          "text": [
            "1 0 3 2 5 4 6 \n",
            "1\n",
            "|___0\n",
            "│   |___2\n",
            "│   |___5\n",
            "|___3\n",
            "│   |___4\n",
            "│   |___6\n"
          ]
        }
      ],
      "source": [
        "import numpy as np\n",
        "\n",
        "\n",
        "class BFS:\n",
        "    def __init__(self,G,source):\n",
        "        \n",
        "        self.G = G\n",
        "        self.source = source\n",
        "        self.Q = []\n",
        "        self.result = []\n",
        "        \n",
        "    def traverse(self):\n",
        "        for i in range(self.G.N):\n",
        "            self.G.setColor(i,WHITE)\n",
        "            self.G.setParent(i,None)\n",
        "            \n",
        "        self.G.setColor(self.source,GRAY)\n",
        "        self.Q.append(self.source)\n",
        "        while self.Q :\n",
        "            u = self.Q.pop(0)\n",
        "            for v in self.G.getAdj(u):\n",
        "                if self.G.getColor(v) == WHITE:\n",
        "                    self.G.setColor(v,GRAY)\n",
        "                    self.G.setParent(v,u)\n",
        "                    self.Q.append(v)\n",
        "            self.G.setColor(u,BLACK)\n",
        "            self.result.append(u)\n",
        "            \n",
        "    def printResult(self):\n",
        "        for u in self.result:\n",
        "            print(u,end=' ')\n",
        "        print('')\n",
        "            \n",
        "    def printLevel(self,curr,depth):\n",
        "        if curr == None:\n",
        "            return;\n",
        "        for i in range(1,depth):\n",
        "            print(\"│   \",end='')\n",
        "        if depth > 0:\n",
        "            print(\"|___\",end='')\n",
        "        print(curr);\n",
        "\n",
        "        for child in [i for i,x in enumerate(self.G.parent) if x== curr]:\n",
        "            self.printLevel(child, depth + 1);\n",
        "        \n",
        "             \n",
        "M = np.array([[0,1,1,0,0,1,0],\n",
        "              [1,1,0,1,0,0,0],\n",
        "              [1,0,0,1,1,0,0],\n",
        "              [0,1,1,0,1,1,1],\n",
        "              [0,0,0,1,1,1,0],\n",
        "              [1,1,0,0,1,0,1],\n",
        "              [0,0,1,1,0,1,0]])\n",
        "\n",
        "G = Graph(M)\n",
        "bfs = BFS(G,1)\n",
        "bfs.traverse()\n",
        "bfs.printResult()\n",
        "bfs.printLevel(1,0)"
      ]
    },
    {
      "cell_type": "markdown",
      "source": [
        "## **Depth First Search**"
      ],
      "metadata": {
        "id": "RqYUb73CZuwE"
      }
    },
    {
      "cell_type": "code",
      "source": [
        "class DFS:\n",
        "  \n",
        "  def __init__(self,Graph,Source):\n",
        "    self.G=Graph\n",
        "    self.S=Source\n",
        "    self.result = []\n",
        "\n",
        "  def traverse(self):\n",
        "    for i in range(self.G.N):\n",
        "      self.G.setColor(i,WHITE)\n",
        "      self.G.setParent(i,None)\n",
        "    self.G.setColor(self.S,GRAY)\n",
        "    self.DFS_visit(self.S)\n",
        "\n",
        "  def DFS_visit(self,Y):\n",
        "    self.result.append(Y)\n",
        "    for v in self.G.getAdj(Y):\n",
        "        if self.G.getColor(v) == WHITE:\n",
        "          self.G.setColor(v,GRAY)\n",
        "          self.G.setParent(v,Y)\n",
        "          self.DFS_visit(v)\n",
        "    self.G.setColor(Y,BLACK)  \n",
        "    \n",
        "\n",
        "  def printResult(self):\n",
        "    for u in self.result:\n",
        "      print(u,end=' ')\n",
        "    print(' ')\n",
        "\n",
        "  def printLevel(self,curr,depth):\n",
        "    if curr == None:\n",
        "      return;\n",
        "    for i in range(1,depth):\n",
        "        print(\"│   \",end='')\n",
        "        if depth > 0:\n",
        "            print(\"|___\",end='')\n",
        "        print(curr);\n",
        "        for child in [i for i,x in enumerate(self.G.parent) if x== curr]:\n",
        "            self.printLevel(child, depth + 1);  \n",
        "\n",
        "\n",
        "K = np.array([[0,1,1,0,0,0],\n",
        "             [1,1,0,1,0,1],\n",
        "             [1,0,0,1,1,1],\n",
        "             [0,1,1,0,0,0],\n",
        "             [0,0,1,1,0,1],\n",
        "             [0,1,1,0,0,1]])\n",
        "\n",
        "graph = Graph(K)\n",
        "dfs = DFS(graph,0)\n",
        "dfs.traverse()\n",
        "dfs.printResult()"
      ],
      "metadata": {
        "colab": {
          "base_uri": "https://localhost:8080/"
        },
        "id": "XVfmzLZVZx-u",
        "outputId": "18c3f2d7-134b-47fb-ef3c-6608dbb16714"
      },
      "execution_count": 21,
      "outputs": [
        {
          "output_type": "stream",
          "name": "stdout",
          "text": [
            "0 1 3 2 4 5  \n"
          ]
        }
      ]
    },
    {
      "cell_type": "markdown",
      "source": [
        "\n",
        "## **Depth Limit Search**"
      ],
      "metadata": {
        "id": "ejvB_RYO3ZoC"
      }
    },
    {
      "cell_type": "code",
      "source": [
        "class DLS:\n",
        "  def __init__(self,Graph,MaxD,goal):\n",
        "    self.G = Graph\n",
        "    self.P = []\n",
        "    self.D =MaxD\n",
        "    self.level = 1 \n",
        "    self.Goal = goal\n",
        "  \n",
        "  def Traversal(self,S):\n",
        "    self.P.append(S)\n",
        "    self.G.setColor(S,BLACK)\n",
        "    if S==self.Goal:\n",
        "      return self.P\n",
        "    elif len(self.P)==self.D:\n",
        "      return False\n",
        "    else:\n",
        "      self.level=self.level+1\n",
        "    for v in self.G.getAdj(S):\n",
        "      if self.G.getColor(v) == WHITE:\n",
        "        temp=self.Traversal(v)\n",
        "        if temp==True:\n",
        "          return self.P\n",
        "        elif temp==self.P:\n",
        "            return self.P \n",
        "        else:\n",
        "          self.P.remove(v)\n",
        "    return False  \n",
        "  \n",
        "Z= np.array([[0,1,1,0,0],\n",
        "             [1,1,0,1,0],\n",
        "             [1,0,0,1,1],\n",
        "             [0,1,1,0,1],\n",
        "             [0,0,1,1,0]])\n",
        "\n",
        "\n",
        "G = Graph(M)\n",
        "search = DLS(G,3,5)\n",
        "x = search.Traversal(2)\n",
        "if x: \n",
        "  print(\"Found\")\n",
        "else:\n",
        "  print(\"Not Found\")"
      ],
      "metadata": {
        "colab": {
          "base_uri": "https://localhost:8080/"
        },
        "id": "bi0unujH3YKs",
        "outputId": "77bc5f43-1483-4c71-88f5-0bdf8d373043"
      },
      "execution_count": 28,
      "outputs": [
        {
          "output_type": "stream",
          "name": "stdout",
          "text": [
            "Not Found\n"
          ]
        }
      ]
    }
  ]
}